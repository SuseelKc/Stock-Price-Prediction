{
 "cells": [
  {
   "cell_type": "code",
   "execution_count": 80,
   "id": "cae91572",
   "metadata": {},
   "outputs": [],
   "source": [
    "import pandas as pd\n",
    "import numpy as np \n",
    "from sklearn import metrics\n",
    "%matplotlib inline\n",
    "import matplotlib.pyplot as plt"
   ]
  },
  {
   "cell_type": "code",
   "execution_count": 81,
   "id": "d7e42c81",
   "metadata": {},
   "outputs": [],
   "source": [
    "dataset = pd.read_csv('E:/Islington/fifth sem/AI CW/Data/hathway.csv')\n"
   ]
  },
  {
   "cell_type": "code",
   "execution_count": 82,
   "id": "a1ac12d9",
   "metadata": {},
   "outputs": [
    {
     "data": {
      "text/html": [
       "<div>\n",
       "<style scoped>\n",
       "    .dataframe tbody tr th:only-of-type {\n",
       "        vertical-align: middle;\n",
       "    }\n",
       "\n",
       "    .dataframe tbody tr th {\n",
       "        vertical-align: top;\n",
       "    }\n",
       "\n",
       "    .dataframe thead th {\n",
       "        text-align: right;\n",
       "    }\n",
       "</style>\n",
       "<table border=\"1\" class=\"dataframe\">\n",
       "  <thead>\n",
       "    <tr style=\"text-align: right;\">\n",
       "      <th></th>\n",
       "      <th>Date</th>\n",
       "      <th>Open</th>\n",
       "      <th>High</th>\n",
       "      <th>Low</th>\n",
       "      <th>Close</th>\n",
       "      <th>Adj Close</th>\n",
       "      <th>Volume</th>\n",
       "    </tr>\n",
       "  </thead>\n",
       "  <tbody>\n",
       "    <tr>\n",
       "      <th>0</th>\n",
       "      <td>2023-01-17</td>\n",
       "      <td>318.399994</td>\n",
       "      <td>318.519989</td>\n",
       "      <td>314.250000</td>\n",
       "      <td>314.859985</td>\n",
       "      <td>314.859985</td>\n",
       "      <td>3478900</td>\n",
       "    </tr>\n",
       "    <tr>\n",
       "      <th>1</th>\n",
       "      <td>2023-01-18</td>\n",
       "      <td>315.000000</td>\n",
       "      <td>315.540009</td>\n",
       "      <td>307.750000</td>\n",
       "      <td>308.299988</td>\n",
       "      <td>308.299988</td>\n",
       "      <td>3406000</td>\n",
       "    </tr>\n",
       "    <tr>\n",
       "      <th>2</th>\n",
       "      <td>2023-01-19</td>\n",
       "      <td>306.119995</td>\n",
       "      <td>307.239990</td>\n",
       "      <td>303.859985</td>\n",
       "      <td>305.230011</td>\n",
       "      <td>305.230011</td>\n",
       "      <td>3614600</td>\n",
       "    </tr>\n",
       "    <tr>\n",
       "      <th>3</th>\n",
       "      <td>2023-01-20</td>\n",
       "      <td>305.209991</td>\n",
       "      <td>310.010010</td>\n",
       "      <td>304.359985</td>\n",
       "      <td>309.869995</td>\n",
       "      <td>309.869995</td>\n",
       "      <td>3770100</td>\n",
       "    </tr>\n",
       "    <tr>\n",
       "      <th>4</th>\n",
       "      <td>2023-01-23</td>\n",
       "      <td>309.630005</td>\n",
       "      <td>312.730011</td>\n",
       "      <td>306.850006</td>\n",
       "      <td>310.420013</td>\n",
       "      <td>310.420013</td>\n",
       "      <td>3086700</td>\n",
       "    </tr>\n",
       "  </tbody>\n",
       "</table>\n",
       "</div>"
      ],
      "text/plain": [
       "         Date        Open        High         Low       Close   Adj Close  \\\n",
       "0  2023-01-17  318.399994  318.519989  314.250000  314.859985  314.859985   \n",
       "1  2023-01-18  315.000000  315.540009  307.750000  308.299988  308.299988   \n",
       "2  2023-01-19  306.119995  307.239990  303.859985  305.230011  305.230011   \n",
       "3  2023-01-20  305.209991  310.010010  304.359985  309.869995  309.869995   \n",
       "4  2023-01-23  309.630005  312.730011  306.850006  310.420013  310.420013   \n",
       "\n",
       "    Volume  \n",
       "0  3478900  \n",
       "1  3406000  \n",
       "2  3614600  \n",
       "3  3770100  \n",
       "4  3086700  "
      ]
     },
     "execution_count": 82,
     "metadata": {},
     "output_type": "execute_result"
    }
   ],
   "source": [
    "dataset.head()"
   ]
  },
  {
   "cell_type": "code",
   "execution_count": 83,
   "id": "e3fc33f0",
   "metadata": {},
   "outputs": [],
   "source": [
    "dataset['Date']=pd.to_datetime(dataset.Date)"
   ]
  },
  {
   "cell_type": "code",
   "execution_count": 84,
   "id": "ae842581",
   "metadata": {},
   "outputs": [
    {
     "data": {
      "text/plain": [
       "(250, 7)"
      ]
     },
     "execution_count": 84,
     "metadata": {},
     "output_type": "execute_result"
    }
   ],
   "source": [
    "# shape of data row and columns\n",
    "dataset.shape"
   ]
  },
  {
   "cell_type": "code",
   "execution_count": 85,
   "id": "0c20a604",
   "metadata": {},
   "outputs": [],
   "source": [
    "# removing unwanted data\n",
    "dataset.drop('Adj Close',axis=1,inplace=True)"
   ]
  },
  {
   "cell_type": "code",
   "execution_count": 86,
   "id": "c8daad04",
   "metadata": {},
   "outputs": [
    {
     "data": {
      "text/html": [
       "<div>\n",
       "<style scoped>\n",
       "    .dataframe tbody tr th:only-of-type {\n",
       "        vertical-align: middle;\n",
       "    }\n",
       "\n",
       "    .dataframe tbody tr th {\n",
       "        vertical-align: top;\n",
       "    }\n",
       "\n",
       "    .dataframe thead th {\n",
       "        text-align: right;\n",
       "    }\n",
       "</style>\n",
       "<table border=\"1\" class=\"dataframe\">\n",
       "  <thead>\n",
       "    <tr style=\"text-align: right;\">\n",
       "      <th></th>\n",
       "      <th>Date</th>\n",
       "      <th>Open</th>\n",
       "      <th>High</th>\n",
       "      <th>Low</th>\n",
       "      <th>Close</th>\n",
       "      <th>Volume</th>\n",
       "    </tr>\n",
       "  </thead>\n",
       "  <tbody>\n",
       "    <tr>\n",
       "      <th>0</th>\n",
       "      <td>2023-01-17</td>\n",
       "      <td>318.399994</td>\n",
       "      <td>318.519989</td>\n",
       "      <td>314.250000</td>\n",
       "      <td>314.859985</td>\n",
       "      <td>3478900</td>\n",
       "    </tr>\n",
       "    <tr>\n",
       "      <th>1</th>\n",
       "      <td>2023-01-18</td>\n",
       "      <td>315.000000</td>\n",
       "      <td>315.540009</td>\n",
       "      <td>307.750000</td>\n",
       "      <td>308.299988</td>\n",
       "      <td>3406000</td>\n",
       "    </tr>\n",
       "    <tr>\n",
       "      <th>2</th>\n",
       "      <td>2023-01-19</td>\n",
       "      <td>306.119995</td>\n",
       "      <td>307.239990</td>\n",
       "      <td>303.859985</td>\n",
       "      <td>305.230011</td>\n",
       "      <td>3614600</td>\n",
       "    </tr>\n",
       "    <tr>\n",
       "      <th>3</th>\n",
       "      <td>2023-01-20</td>\n",
       "      <td>305.209991</td>\n",
       "      <td>310.010010</td>\n",
       "      <td>304.359985</td>\n",
       "      <td>309.869995</td>\n",
       "      <td>3770100</td>\n",
       "    </tr>\n",
       "    <tr>\n",
       "      <th>4</th>\n",
       "      <td>2023-01-23</td>\n",
       "      <td>309.630005</td>\n",
       "      <td>312.730011</td>\n",
       "      <td>306.850006</td>\n",
       "      <td>310.420013</td>\n",
       "      <td>3086700</td>\n",
       "    </tr>\n",
       "  </tbody>\n",
       "</table>\n",
       "</div>"
      ],
      "text/plain": [
       "        Date        Open        High         Low       Close   Volume\n",
       "0 2023-01-17  318.399994  318.519989  314.250000  314.859985  3478900\n",
       "1 2023-01-18  315.000000  315.540009  307.750000  308.299988  3406000\n",
       "2 2023-01-19  306.119995  307.239990  303.859985  305.230011  3614600\n",
       "3 2023-01-20  305.209991  310.010010  304.359985  309.869995  3770100\n",
       "4 2023-01-23  309.630005  312.730011  306.850006  310.420013  3086700"
      ]
     },
     "execution_count": 86,
     "metadata": {},
     "output_type": "execute_result"
    }
   ],
   "source": [
    "dataset.head()"
   ]
  },
  {
   "cell_type": "code",
   "execution_count": 87,
   "id": "83ed5ff3",
   "metadata": {},
   "outputs": [
    {
     "data": {
      "text/plain": [
       "Date      0\n",
       "Open      0\n",
       "High      0\n",
       "Low       0\n",
       "Close     0\n",
       "Volume    0\n",
       "dtype: int64"
      ]
     },
     "execution_count": 87,
     "metadata": {},
     "output_type": "execute_result"
    }
   ],
   "source": [
    "# checking null value if there exits\n",
    "dataset.isnull().sum()"
   ]
  },
  {
   "cell_type": "code",
   "execution_count": 88,
   "id": "b1e13bf5",
   "metadata": {},
   "outputs": [
    {
     "data": {
      "text/plain": [
       "Date      False\n",
       "Open      False\n",
       "High      False\n",
       "Low       False\n",
       "Close     False\n",
       "Volume    False\n",
       "dtype: bool"
      ]
     },
     "execution_count": 88,
     "metadata": {},
     "output_type": "execute_result"
    }
   ],
   "source": [
    "dataset.isna().any()"
   ]
  },
  {
   "cell_type": "code",
   "execution_count": 89,
   "id": "88a7842d",
   "metadata": {},
   "outputs": [
    {
     "name": "stdout",
     "output_type": "stream",
     "text": [
      "<class 'pandas.core.frame.DataFrame'>\n",
      "RangeIndex: 250 entries, 0 to 249\n",
      "Data columns (total 6 columns):\n",
      " #   Column  Non-Null Count  Dtype         \n",
      "---  ------  --------------  -----         \n",
      " 0   Date    250 non-null    datetime64[ns]\n",
      " 1   Open    250 non-null    float64       \n",
      " 2   High    250 non-null    float64       \n",
      " 3   Low     250 non-null    float64       \n",
      " 4   Close   250 non-null    float64       \n",
      " 5   Volume  250 non-null    int64         \n",
      "dtypes: datetime64[ns](1), float64(4), int64(1)\n",
      "memory usage: 11.8 KB\n"
     ]
    }
   ],
   "source": [
    "dataset.info()"
   ]
  },
  {
   "cell_type": "code",
   "execution_count": 90,
   "id": "0dc8dfc5",
   "metadata": {},
   "outputs": [
    {
     "data": {
      "text/html": [
       "<div>\n",
       "<style scoped>\n",
       "    .dataframe tbody tr th:only-of-type {\n",
       "        vertical-align: middle;\n",
       "    }\n",
       "\n",
       "    .dataframe tbody tr th {\n",
       "        vertical-align: top;\n",
       "    }\n",
       "\n",
       "    .dataframe thead th {\n",
       "        text-align: right;\n",
       "    }\n",
       "</style>\n",
       "<table border=\"1\" class=\"dataframe\">\n",
       "  <thead>\n",
       "    <tr style=\"text-align: right;\">\n",
       "      <th></th>\n",
       "      <th>Date</th>\n",
       "      <th>Open</th>\n",
       "      <th>High</th>\n",
       "      <th>Low</th>\n",
       "      <th>Close</th>\n",
       "      <th>Volume</th>\n",
       "    </tr>\n",
       "  </thead>\n",
       "  <tbody>\n",
       "    <tr>\n",
       "      <th>count</th>\n",
       "      <td>250</td>\n",
       "      <td>250.000000</td>\n",
       "      <td>250.000000</td>\n",
       "      <td>250.000000</td>\n",
       "      <td>250.000000</td>\n",
       "      <td>2.500000e+02</td>\n",
       "    </tr>\n",
       "    <tr>\n",
       "      <th>mean</th>\n",
       "      <td>2023-07-15 11:48:28.800000</td>\n",
       "      <td>336.995440</td>\n",
       "      <td>338.994920</td>\n",
       "      <td>334.789240</td>\n",
       "      <td>336.993800</td>\n",
       "      <td>3.348678e+06</td>\n",
       "    </tr>\n",
       "    <tr>\n",
       "      <th>min</th>\n",
       "      <td>2023-01-17 00:00:00</td>\n",
       "      <td>294.679993</td>\n",
       "      <td>299.500000</td>\n",
       "      <td>292.420013</td>\n",
       "      <td>293.510010</td>\n",
       "      <td>1.282000e+06</td>\n",
       "    </tr>\n",
       "    <tr>\n",
       "      <th>25%</th>\n",
       "      <td>2023-04-17 06:00:00</td>\n",
       "      <td>320.260010</td>\n",
       "      <td>322.012505</td>\n",
       "      <td>317.812492</td>\n",
       "      <td>319.804992</td>\n",
       "      <td>2.683525e+06</td>\n",
       "    </tr>\n",
       "    <tr>\n",
       "      <th>50%</th>\n",
       "      <td>2023-07-17 12:00:00</td>\n",
       "      <td>340.395005</td>\n",
       "      <td>342.289994</td>\n",
       "      <td>338.575012</td>\n",
       "      <td>341.044998</td>\n",
       "      <td>3.052750e+06</td>\n",
       "    </tr>\n",
       "    <tr>\n",
       "      <th>75%</th>\n",
       "      <td>2023-10-12 18:00:00</td>\n",
       "      <td>355.924996</td>\n",
       "      <td>357.702492</td>\n",
       "      <td>353.955010</td>\n",
       "      <td>356.087510</td>\n",
       "      <td>3.563525e+06</td>\n",
       "    </tr>\n",
       "    <tr>\n",
       "      <th>max</th>\n",
       "      <td>2024-01-12 00:00:00</td>\n",
       "      <td>371.640015</td>\n",
       "      <td>373.339996</td>\n",
       "      <td>368.459991</td>\n",
       "      <td>370.480011</td>\n",
       "      <td>1.560940e+07</td>\n",
       "    </tr>\n",
       "    <tr>\n",
       "      <th>std</th>\n",
       "      <td>NaN</td>\n",
       "      <td>21.038592</td>\n",
       "      <td>20.831458</td>\n",
       "      <td>21.135901</td>\n",
       "      <td>20.868529</td>\n",
       "      <td>1.356508e+06</td>\n",
       "    </tr>\n",
       "  </tbody>\n",
       "</table>\n",
       "</div>"
      ],
      "text/plain": [
       "                             Date        Open        High         Low  \\\n",
       "count                         250  250.000000  250.000000  250.000000   \n",
       "mean   2023-07-15 11:48:28.800000  336.995440  338.994920  334.789240   \n",
       "min           2023-01-17 00:00:00  294.679993  299.500000  292.420013   \n",
       "25%           2023-04-17 06:00:00  320.260010  322.012505  317.812492   \n",
       "50%           2023-07-17 12:00:00  340.395005  342.289994  338.575012   \n",
       "75%           2023-10-12 18:00:00  355.924996  357.702492  353.955010   \n",
       "max           2024-01-12 00:00:00  371.640015  373.339996  368.459991   \n",
       "std                           NaN   21.038592   20.831458   21.135901   \n",
       "\n",
       "            Close        Volume  \n",
       "count  250.000000  2.500000e+02  \n",
       "mean   336.993800  3.348678e+06  \n",
       "min    293.510010  1.282000e+06  \n",
       "25%    319.804992  2.683525e+06  \n",
       "50%    341.044998  3.052750e+06  \n",
       "75%    356.087510  3.563525e+06  \n",
       "max    370.480011  1.560940e+07  \n",
       "std     20.868529  1.356508e+06  "
      ]
     },
     "execution_count": 90,
     "metadata": {},
     "output_type": "execute_result"
    }
   ],
   "source": [
    "dataset.describe()"
   ]
  },
  {
   "cell_type": "code",
   "execution_count": 91,
   "id": "698443e8",
   "metadata": {},
   "outputs": [
    {
     "data": {
      "text/plain": [
       "<Axes: >"
      ]
     },
     "execution_count": 91,
     "metadata": {},
     "output_type": "execute_result"
    },
    {
     "data": {
      "image/png": "[encoded data removed]",
      "text/plain": [
       "<Figure size 1600x600 with 1 Axes>"
      ]
     },
     "metadata": {},
     "output_type": "display_data"
    }
   ],
   "source": [
    "dataset['Open'].plot(figsize=(16,6))"
   ]
  },
  {
   "cell_type": "code",
   "execution_count": 144,
   "id": "67512470",
   "metadata": {},
   "outputs": [
    {
     "data": {
      "text/plain": [
       "0      314.859985\n",
       "1      308.299988\n",
       "2      305.230011\n",
       "3      309.869995\n",
       "4      310.420013\n",
       "          ...    \n",
       "245    368.179993\n",
       "246    366.899994\n",
       "247    367.920013\n",
       "248    363.339996\n",
       "249    363.619995\n",
       "Name: Close, Length: 250, dtype: float64"
      ]
     },
     "execution_count": 144,
     "metadata": {},
     "output_type": "execute_result"
    }
   ],
   "source": [
    "X= dataset[['Open','High','Low','Volume']]\n",
    "y=dataset['Close']\n",
    "y\n"
   ]
  },
  {
   "cell_type": "code",
   "execution_count": 143,
   "id": "d8f7c017",
   "metadata": {},
   "outputs": [],
   "source": [
    "from sklearn.model_selection import train_test_split\n",
    "X_train,X_test,y_train,y_test = train_test_split(X,y,random_state=0)"
   ]
  },
  {
   "cell_type": "code",
   "execution_count": 94,
   "id": "5c090cc1",
   "metadata": {},
   "outputs": [],
   "source": [
    "X_train,X_test,y_train,y_test =train_test_split(X,y,random_state=0)"
   ]
  },
  {
   "cell_type": "code",
   "execution_count": 145,
   "id": "4e7a2a5d",
   "metadata": {},
   "outputs": [
    {
     "name": "stdout",
     "output_type": "stream",
     "text": [
      "Train (187, 4)\n",
      "Test (63, 4)\n",
      "yTest (63,)\n",
      "yTrain (187,)\n"
     ]
    }
   ],
   "source": [
    "print('Train',X_train.shape)\n",
    "print('Test',X_test.shape)\n",
    "print('yTest',y_test.shape)\n",
    "print('yTrain',y_train.shape)"
   ]
  },
  {
   "cell_type": "code",
   "execution_count": 96,
   "id": "9c8fd931",
   "metadata": {},
   "outputs": [],
   "source": [
    "from sklearn.linear_model import LinearRegression\n",
    "from sklearn.metrics import confusion_matrix, accuracy_score\n",
    "regressor = LinearRegression()"
   ]
  },
  {
   "cell_type": "raw",
   "id": "2e0d5edf",
   "metadata": {},
   "source": []
  },
  {
   "cell_type": "code",
   "execution_count": 97,
   "id": "1dba526c",
   "metadata": {},
   "outputs": [
    {
     "data": {
      "text/html": [
       "<style>#sk-container-id-3 {color: black;}#sk-container-id-3 pre{padding: 0;}#sk-container-id-3 div.sk-toggleable {background-color: white;}#sk-container-id-3 label.sk-toggleable__label {cursor: pointer;display: block;width: 100%;margin-bottom: 0;padding: 0.3em;box-sizing: border-box;text-align: center;}#sk-container-id-3 label.sk-toggleable__label-arrow:before {content: \"▸\";float: left;margin-right: 0.25em;color: #696969;}#sk-container-id-3 label.sk-toggleable__label-arrow:hover:before {color: black;}#sk-container-id-3 div.sk-estimator:hover label.sk-toggleable__label-arrow:before {color: black;}#sk-container-id-3 div.sk-toggleable__content {max-height: 0;max-width: 0;overflow: hidden;text-align: left;background-color: #f0f8ff;}#sk-container-id-3 div.sk-toggleable__content pre {margin: 0.2em;color: black;border-radius: 0.25em;background-color: #f0f8ff;}#sk-container-id-3 input.sk-toggleable__control:checked~div.sk-toggleable__content {max-height: 200px;max-width: 100%;overflow: auto;}#sk-container-id-3 input.sk-toggleable__control:checked~label.sk-toggleable__label-arrow:before {content: \"▾\";}#sk-container-id-3 div.sk-estimator input.sk-toggleable__control:checked~label.sk-toggleable__label {background-color: #d4ebff;}#sk-container-id-3 div.sk-label input.sk-toggleable__control:checked~label.sk-toggleable__label {background-color: #d4ebff;}#sk-container-id-3 input.sk-hidden--visually {border: 0;clip: rect(1px 1px 1px 1px);clip: rect(1px, 1px, 1px, 1px);height: 1px;margin: -1px;overflow: hidden;padding: 0;position: absolute;width: 1px;}#sk-container-id-3 div.sk-estimator {font-family: monospace;background-color: #f0f8ff;border: 1px dotted black;border-radius: 0.25em;box-sizing: border-box;margin-bottom: 0.5em;}#sk-container-id-3 div.sk-estimator:hover {background-color: #d4ebff;}#sk-container-id-3 div.sk-parallel-item::after {content: \"\";width: 100%;border-bottom: 1px solid gray;flex-grow: 1;}#sk-container-id-3 div.sk-label:hover label.sk-toggleable__label {background-color: #d4ebff;}#sk-container-id-3 div.sk-serial::before {content: \"\";position: absolute;border-left: 1px solid gray;box-sizing: border-box;top: 0;bottom: 0;left: 50%;z-index: 0;}#sk-container-id-3 div.sk-serial {display: flex;flex-direction: column;align-items: center;background-color: white;padding-right: 0.2em;padding-left: 0.2em;position: relative;}#sk-container-id-3 div.sk-item {position: relative;z-index: 1;}#sk-container-id-3 div.sk-parallel {display: flex;align-items: stretch;justify-content: center;background-color: white;position: relative;}#sk-container-id-3 div.sk-item::before, #sk-container-id-3 div.sk-parallel-item::before {content: \"\";position: absolute;border-left: 1px solid gray;box-sizing: border-box;top: 0;bottom: 0;left: 50%;z-index: -1;}#sk-container-id-3 div.sk-parallel-item {display: flex;flex-direction: column;z-index: 1;position: relative;background-color: white;}#sk-container-id-3 div.sk-parallel-item:first-child::after {align-self: flex-end;width: 50%;}#sk-container-id-3 div.sk-parallel-item:last-child::after {align-self: flex-start;width: 50%;}#sk-container-id-3 div.sk-parallel-item:only-child::after {width: 0;}#sk-container-id-3 div.sk-dashed-wrapped {border: 1px dashed gray;margin: 0 0.4em 0.5em 0.4em;box-sizing: border-box;padding-bottom: 0.4em;background-color: white;}#sk-container-id-3 div.sk-label label {font-family: monospace;font-weight: bold;display: inline-block;line-height: 1.2em;}#sk-container-id-3 div.sk-label-container {text-align: center;}#sk-container-id-3 div.sk-container {/* jupyter's `normalize.less` sets `[hidden] { display: none; }` but bootstrap.min.css set `[hidden] { display: none !important; }` so we also need the `!important` here to be able to override the default hidden behavior on the sphinx rendered scikit-learn.org. See: https://github.com/scikit-learn/scikit-learn/issues/21755 */display: inline-block !important;position: relative;}#sk-container-id-3 div.sk-text-repr-fallback {display: none;}</style><div id=\"sk-container-id-3\" class=\"sk-top-container\"><div class=\"sk-text-repr-fallback\"><pre>LinearRegression()</pre><b>In a Jupyter environment, please rerun this cell to show the HTML representation or trust the notebook. <br />On GitHub, the HTML representation is unable to render, please try loading this page with nbviewer.org.</b></div><div class=\"sk-container\" hidden><div class=\"sk-item\"><div class=\"sk-estimator sk-toggleable\"><input class=\"sk-toggleable__control sk-hidden--visually\" id=\"sk-estimator-id-3\" type=\"checkbox\" checked><label for=\"sk-estimator-id-3\" class=\"sk-toggleable__label sk-toggleable__label-arrow\">LinearRegression</label><div class=\"sk-toggleable__content\"><pre>LinearRegression()</pre></div></div></div></div></div>"
      ],
      "text/plain": [
       "LinearRegression()"
      ]
     },
     "execution_count": 97,
     "metadata": {},
     "output_type": "execute_result"
    }
   ],
   "source": [
    "regressor.fit(X_train,y_train)"
   ]
  },
  {
   "cell_type": "code",
   "execution_count": 98,
   "id": "31bdf156",
   "metadata": {},
   "outputs": [
    {
     "name": "stdout",
     "output_type": "stream",
     "text": [
      "[-5.64089244e-01  6.92361390e-01  8.60747912e-01 -6.14510789e-08]\n"
     ]
    }
   ],
   "source": [
    "print(regressor.coef_)"
   ]
  },
  {
   "cell_type": "code",
   "execution_count": 99,
   "id": "77cf656e",
   "metadata": {},
   "outputs": [
    {
     "name": "stdout",
     "output_type": "stream",
     "text": [
      "4.4460936061094\n"
     ]
    }
   ],
   "source": [
    "print(regressor.intercept_)"
   ]
  },
  {
   "cell_type": "code",
   "execution_count": 100,
   "id": "93f7ccac",
   "metadata": {},
   "outputs": [],
   "source": [
    "predicted=regressor.predict(X_test)"
   ]
  },
  {
   "cell_type": "code",
   "execution_count": 132,
   "id": "83f46b00",
   "metadata": {},
   "outputs": [
    {
     "name": "stdout",
     "output_type": "stream",
     "text": [
      "           Open        High         Low   Volume\n",
      "225  352.000000  353.019989  350.850006  2830000\n",
      "122  345.600006  346.209991  343.450012  2831800\n",
      "92   321.859985  322.470001  319.000000  3231800\n",
      "157  362.179993  362.470001  359.250000  2842300\n",
      "154  357.890015  358.410004  354.529999  1728000\n",
      "..          ...         ...         ...      ...\n",
      "188  348.000000  349.940002  345.829987  3117800\n",
      "15   307.299988  314.149994  306.630005  3786700\n",
      "217  362.640015  362.640015  359.579987  2580300\n",
      "74   327.130005  328.070007  323.059998  2653800\n",
      "7    312.989990  313.679993  309.579987  2856600\n",
      "\n",
      "[63 rows x 4 columns]\n"
     ]
    }
   ],
   "source": [
    "print(X_test)\n"
   ]
  },
  {
   "cell_type": "code",
   "execution_count": 102,
   "id": "d7bc839e",
   "metadata": {},
   "outputs": [
    {
     "data": {
      "text/plain": [
       "(63,)"
      ]
     },
     "execution_count": 102,
     "metadata": {},
     "output_type": "execute_result"
    }
   ],
   "source": [
    "predicted.shape\n"
   ]
  },
  {
   "cell_type": "code",
   "execution_count": 103,
   "id": "a429ef3a",
   "metadata": {},
   "outputs": [],
   "source": [
    "dframe=pd.DataFrame(y_test,predicted)"
   ]
  },
  {
   "cell_type": "code",
   "execution_count": 104,
   "id": "6b4076d0",
   "metadata": {},
   "outputs": [],
   "source": [
    "dfr=pd.DataFrame({'Actual':y_test,'Predicted':predicted})"
   ]
  },
  {
   "cell_type": "code",
   "execution_count": 105,
   "id": "24b54c9f",
   "metadata": {},
   "outputs": [
    {
     "data": {
      "text/html": [
       "<div>\n",
       "<style scoped>\n",
       "    .dataframe tbody tr th:only-of-type {\n",
       "        vertical-align: middle;\n",
       "    }\n",
       "\n",
       "    .dataframe tbody tr th {\n",
       "        vertical-align: top;\n",
       "    }\n",
       "\n",
       "    .dataframe thead th {\n",
       "        text-align: right;\n",
       "    }\n",
       "</style>\n",
       "<table border=\"1\" class=\"dataframe\">\n",
       "  <thead>\n",
       "    <tr style=\"text-align: right;\">\n",
       "      <th></th>\n",
       "      <th>Actual</th>\n",
       "      <th>Predicted</th>\n",
       "    </tr>\n",
       "  </thead>\n",
       "  <tbody>\n",
       "    <tr>\n",
       "      <th>225</th>\n",
       "      <td>352.700012</td>\n",
       "      <td>352.123593</td>\n",
       "    </tr>\n",
       "    <tr>\n",
       "      <th>122</th>\n",
       "      <td>343.540009</td>\n",
       "      <td>344.649141</td>\n",
       "    </tr>\n",
       "    <tr>\n",
       "      <th>92</th>\n",
       "      <td>322.190002</td>\n",
       "      <td>320.534102</td>\n",
       "    </tr>\n",
       "    <tr>\n",
       "      <th>157</th>\n",
       "      <td>360.200012</td>\n",
       "      <td>360.153514</td>\n",
       "    </tr>\n",
       "    <tr>\n",
       "      <th>154</th>\n",
       "      <td>355.549988</td>\n",
       "      <td>355.768203</td>\n",
       "    </tr>\n",
       "    <tr>\n",
       "      <th>...</th>\n",
       "      <td>...</td>\n",
       "      <td>...</td>\n",
       "    </tr>\n",
       "    <tr>\n",
       "      <th>188</th>\n",
       "      <td>346.230011</td>\n",
       "      <td>347.908830</td>\n",
       "    </tr>\n",
       "    <tr>\n",
       "      <th>15</th>\n",
       "      <td>312.970001</td>\n",
       "      <td>312.305242</td>\n",
       "    </tr>\n",
       "    <tr>\n",
       "      <th>217</th>\n",
       "      <td>361.339996</td>\n",
       "      <td>360.311867</td>\n",
       "    </tr>\n",
       "    <tr>\n",
       "      <th>74</th>\n",
       "      <td>323.220001</td>\n",
       "      <td>324.968722</td>\n",
       "    </tr>\n",
       "    <tr>\n",
       "      <th>7</th>\n",
       "      <td>310.950012</td>\n",
       "      <td>311.366509</td>\n",
       "    </tr>\n",
       "  </tbody>\n",
       "</table>\n",
       "<p>63 rows × 2 columns</p>\n",
       "</div>"
      ],
      "text/plain": [
       "         Actual   Predicted\n",
       "225  352.700012  352.123593\n",
       "122  343.540009  344.649141\n",
       "92   322.190002  320.534102\n",
       "157  360.200012  360.153514\n",
       "154  355.549988  355.768203\n",
       "..          ...         ...\n",
       "188  346.230011  347.908830\n",
       "15   312.970001  312.305242\n",
       "217  361.339996  360.311867\n",
       "74   323.220001  324.968722\n",
       "7    310.950012  311.366509\n",
       "\n",
       "[63 rows x 2 columns]"
      ]
     },
     "execution_count": 105,
     "metadata": {},
     "output_type": "execute_result"
    }
   ],
   "source": [
    "(dfr)"
   ]
  },
  {
   "cell_type": "code",
   "execution_count": 106,
   "id": "8e91e2ed",
   "metadata": {},
   "outputs": [
    {
     "data": {
      "text/html": [
       "<div>\n",
       "<style scoped>\n",
       "    .dataframe tbody tr th:only-of-type {\n",
       "        vertical-align: middle;\n",
       "    }\n",
       "\n",
       "    .dataframe tbody tr th {\n",
       "        vertical-align: top;\n",
       "    }\n",
       "\n",
       "    .dataframe thead th {\n",
       "        text-align: right;\n",
       "    }\n",
       "</style>\n",
       "<table border=\"1\" class=\"dataframe\">\n",
       "  <thead>\n",
       "    <tr style=\"text-align: right;\">\n",
       "      <th></th>\n",
       "      <th>Actual</th>\n",
       "      <th>Predicted</th>\n",
       "    </tr>\n",
       "  </thead>\n",
       "  <tbody>\n",
       "    <tr>\n",
       "      <th>225</th>\n",
       "      <td>352.700012</td>\n",
       "      <td>352.123593</td>\n",
       "    </tr>\n",
       "    <tr>\n",
       "      <th>122</th>\n",
       "      <td>343.540009</td>\n",
       "      <td>344.649141</td>\n",
       "    </tr>\n",
       "    <tr>\n",
       "      <th>92</th>\n",
       "      <td>322.190002</td>\n",
       "      <td>320.534102</td>\n",
       "    </tr>\n",
       "    <tr>\n",
       "      <th>157</th>\n",
       "      <td>360.200012</td>\n",
       "      <td>360.153514</td>\n",
       "    </tr>\n",
       "    <tr>\n",
       "      <th>154</th>\n",
       "      <td>355.549988</td>\n",
       "      <td>355.768203</td>\n",
       "    </tr>\n",
       "    <tr>\n",
       "      <th>161</th>\n",
       "      <td>361.799988</td>\n",
       "      <td>362.784860</td>\n",
       "    </tr>\n",
       "    <tr>\n",
       "      <th>198</th>\n",
       "      <td>337.410004</td>\n",
       "      <td>336.655664</td>\n",
       "    </tr>\n",
       "    <tr>\n",
       "      <th>83</th>\n",
       "      <td>323.750000</td>\n",
       "      <td>324.691911</td>\n",
       "    </tr>\n",
       "    <tr>\n",
       "      <th>63</th>\n",
       "      <td>324.630005</td>\n",
       "      <td>324.032372</td>\n",
       "    </tr>\n",
       "    <tr>\n",
       "      <th>155</th>\n",
       "      <td>358.290009</td>\n",
       "      <td>357.018636</td>\n",
       "    </tr>\n",
       "    <tr>\n",
       "      <th>218</th>\n",
       "      <td>360.049988</td>\n",
       "      <td>360.225291</td>\n",
       "    </tr>\n",
       "    <tr>\n",
       "      <th>231</th>\n",
       "      <td>356.500000</td>\n",
       "      <td>354.926013</td>\n",
       "    </tr>\n",
       "    <tr>\n",
       "      <th>108</th>\n",
       "      <td>336.959991</td>\n",
       "      <td>336.632414</td>\n",
       "    </tr>\n",
       "    <tr>\n",
       "      <th>186</th>\n",
       "      <td>345.660004</td>\n",
       "      <td>344.512512</td>\n",
       "    </tr>\n",
       "    <tr>\n",
       "      <th>116</th>\n",
       "      <td>341.559998</td>\n",
       "      <td>340.697919</td>\n",
       "    </tr>\n",
       "    <tr>\n",
       "      <th>73</th>\n",
       "      <td>325.859985</td>\n",
       "      <td>324.472512</td>\n",
       "    </tr>\n",
       "    <tr>\n",
       "      <th>203</th>\n",
       "      <td>346.630005</td>\n",
       "      <td>345.670073</td>\n",
       "    </tr>\n",
       "    <tr>\n",
       "      <th>139</th>\n",
       "      <td>362.579987</td>\n",
       "      <td>361.602373</td>\n",
       "    </tr>\n",
       "    <tr>\n",
       "      <th>152</th>\n",
       "      <td>354.299988</td>\n",
       "      <td>356.555071</td>\n",
       "    </tr>\n",
       "    <tr>\n",
       "      <th>96</th>\n",
       "      <td>328.579987</td>\n",
       "      <td>328.655271</td>\n",
       "    </tr>\n",
       "    <tr>\n",
       "      <th>156</th>\n",
       "      <td>361.059998</td>\n",
       "      <td>361.728660</td>\n",
       "    </tr>\n",
       "    <tr>\n",
       "      <th>45</th>\n",
       "      <td>299.730011</td>\n",
       "      <td>303.443914</td>\n",
       "    </tr>\n",
       "    <tr>\n",
       "      <th>237</th>\n",
       "      <td>356.829987</td>\n",
       "      <td>357.203163</td>\n",
       "    </tr>\n",
       "    <tr>\n",
       "      <th>111</th>\n",
       "      <td>335.339996</td>\n",
       "      <td>336.606070</td>\n",
       "    </tr>\n",
       "    <tr>\n",
       "      <th>150</th>\n",
       "      <td>350.570007</td>\n",
       "      <td>350.890586</td>\n",
       "    </tr>\n",
       "  </tbody>\n",
       "</table>\n",
       "</div>"
      ],
      "text/plain": [
       "         Actual   Predicted\n",
       "225  352.700012  352.123593\n",
       "122  343.540009  344.649141\n",
       "92   322.190002  320.534102\n",
       "157  360.200012  360.153514\n",
       "154  355.549988  355.768203\n",
       "161  361.799988  362.784860\n",
       "198  337.410004  336.655664\n",
       "83   323.750000  324.691911\n",
       "63   324.630005  324.032372\n",
       "155  358.290009  357.018636\n",
       "218  360.049988  360.225291\n",
       "231  356.500000  354.926013\n",
       "108  336.959991  336.632414\n",
       "186  345.660004  344.512512\n",
       "116  341.559998  340.697919\n",
       "73   325.859985  324.472512\n",
       "203  346.630005  345.670073\n",
       "139  362.579987  361.602373\n",
       "152  354.299988  356.555071\n",
       "96   328.579987  328.655271\n",
       "156  361.059998  361.728660\n",
       "45   299.730011  303.443914\n",
       "237  356.829987  357.203163\n",
       "111  335.339996  336.606070\n",
       "150  350.570007  350.890586"
      ]
     },
     "execution_count": 106,
     "metadata": {},
     "output_type": "execute_result"
    }
   ],
   "source": [
    "dfr.head(25)"
   ]
  },
  {
   "cell_type": "code",
   "execution_count": 107,
   "id": "39d165a3",
   "metadata": {},
   "outputs": [],
   "source": [
    "from sklearn.metrics import confusion_matrix, accuracy_score"
   ]
  },
  {
   "cell_type": "code",
   "execution_count": 108,
   "id": "95184915",
   "metadata": {},
   "outputs": [
    {
     "data": {
      "text/plain": [
       "0.9959677378969152"
      ]
     },
     "execution_count": 108,
     "metadata": {},
     "output_type": "execute_result"
    }
   ],
   "source": [
    "regressor.score(X_test,y_test)"
   ]
  },
  {
   "cell_type": "code",
   "execution_count": 109,
   "id": "d0e8df79",
   "metadata": {},
   "outputs": [],
   "source": [
    "import math"
   ]
  },
  {
   "cell_type": "code",
   "execution_count": 110,
   "id": "1582f80a",
   "metadata": {},
   "outputs": [
    {
     "name": "stdout",
     "output_type": "stream",
     "text": [
      "Mean Absolute Error: 0.98882138341155\n"
     ]
    }
   ],
   "source": [
    "print('Mean Absolute Error:',metrics.mean_absolute_error(y_test,predicted))"
   ]
  },
  {
   "cell_type": "code",
   "execution_count": 111,
   "id": "9a7d1911",
   "metadata": {},
   "outputs": [
    {
     "name": "stdout",
     "output_type": "stream",
     "text": [
      "Mean Squared Error: 1.4493215904734085\n"
     ]
    }
   ],
   "source": [
    "print('Mean Squared Error:',metrics.mean_squared_error(y_test,predicted))"
   ]
  },
  {
   "cell_type": "code",
   "execution_count": 112,
   "id": "466d63c8",
   "metadata": {},
   "outputs": [
    {
     "name": "stdout",
     "output_type": "stream",
     "text": [
      "Root Mean Squared Error: 1.2038777306991804\n"
     ]
    }
   ],
   "source": [
    "print('Root Mean Squared Error:',math.sqrt(metrics.mean_squared_error(y_test,predicted)))"
   ]
  },
  {
   "cell_type": "code",
   "execution_count": 113,
   "id": "98582e6b",
   "metadata": {},
   "outputs": [],
   "source": [
    "graph=dfr.head(20)"
   ]
  },
  {
   "cell_type": "code",
   "execution_count": 131,
   "id": "c09864af",
   "metadata": {},
   "outputs": [
    {
     "data": {
      "text/plain": [
       "<Axes: >"
      ]
     },
     "execution_count": 131,
     "metadata": {},
     "output_type": "execute_result"
    },
    {
     "data": {
      "image/png": "[encoded data removed]",
      "text/plain": [
       "<Figure size 640x480 with 1 Axes>"
      ]
     },
     "metadata": {},
     "output_type": "display_data"
    }
   ],
   "source": [
    "graph.plot(kind='bar')"
   ]
  },
  {
   "cell_type": "code",
   "execution_count": null,
   "id": "d8c44eb9",
   "metadata": {},
   "outputs": [],
   "source": [
    "\n"
   ]
  },
  {
   "cell_type": "code",
   "execution_count": null,
   "id": "57c436fb",
   "metadata": {},
   "outputs": [],
   "source": []
  },
  {
   "cell_type": "code",
   "execution_count": null,
   "id": "52de0e2e",
   "metadata": {},
   "outputs": [],
   "source": []
  }
 ],
 "metadata": {
  "kernelspec": {
   "display_name": "Python 3 (ipykernel)",
   "language": "python",
   "name": "python3"
  },
  "language_info": {
   "codemirror_mode": {
    "name": "ipython",
    "version": 3
   },
   "file_extension": ".py",
   "mimetype": "text/x-python",
   "name": "python",
   "nbconvert_exporter": "python",
   "pygments_lexer": "ipython3",
   "version": "3.11.5"
  }
 },
 "nbformat": 4,
 "nbformat_minor": 5
}
